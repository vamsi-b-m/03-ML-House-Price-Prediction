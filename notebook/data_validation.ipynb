{
 "cells": [
  {
   "cell_type": "code",
   "execution_count": 38,
   "metadata": {},
   "outputs": [],
   "source": [
    "import os, sys\n",
    "from housing.entity.artifact_entity import DataIngestionArtifact\n",
    "from housing.config.configuration import DataValidationConfig\n",
    "from housing.exception import HousingException\n",
    "\n",
    "class DataValidation:\n",
    "\n",
    "    def __init__(self, data_validation_config:DataValidationConfig, data_ingestion_artifact:DataIngestionArtifact(train_file_path=\"scbiwsd\", test_file_path=\"iwvycbws\", is_ingested=True, message=\"sudcvbhj\")):\n",
    "        try:\n",
    "            self.data_validation_config = data_validation_config\n",
    "            self.data_ingestion_artifact = data_ingestion_artifact\n",
    "        except Exception as e:\n",
    "            raise HousingException(e, sys) from e\n",
    "    \n",
    "    def train_test(self):\n",
    "            print(\"hello\")\n",
    "            print(self.data_ingestion_artifact)"
   ]
  },
  {
   "cell_type": "code",
   "execution_count": 36,
   "metadata": {},
   "outputs": [],
   "source": [
    "data_validation = DataValidation(DataValidationConfig, DataIngestionArtifact)"
   ]
  },
  {
   "cell_type": "code",
   "execution_count": 37,
   "metadata": {},
   "outputs": [
    {
     "name": "stdout",
     "output_type": "stream",
     "text": [
      "hello\n",
      "<class 'housing.entity.artifact_entity.DataIngestionArtfifact'>\n"
     ]
    }
   ],
   "source": [
    "data_validation.train_test()"
   ]
  },
  {
   "cell_type": "code",
   "execution_count": 59,
   "metadata": {},
   "outputs": [],
   "source": [
    "#os.getcwd()\n",
    "os.chdir(\"/Users/vambat1/Documents/Projects/Machine-Learning/03-ML-House-Price-Prediction/\")"
   ]
  },
  {
   "cell_type": "code",
   "execution_count": 63,
   "metadata": {},
   "outputs": [],
   "source": [
    "from housing.components.data_ingestion import DataIngestion\n",
    "from housing.entity.config_entity import DataIngestionConfig\n",
    "from housing.constant import *"
   ]
  },
  {
   "cell_type": "code",
   "execution_count": 67,
   "metadata": {},
   "outputs": [],
   "source": [
    "data_ingestion_config = DataIngestionConfig(dataset_download_url=DATA_INGESTION_DOWNLOAD_URL_KEY, tgz_download_dir=DATA_INGESTION_TGZ_DONWLOAD_DIR_KEY, raw_data_dir=DATA_INGESTION_RAW_DATA_DIR_KEY, ingested_train_dir=DATA_INGESTION_TRAIN_DIR_KEY, ingested_test_dir=DATA_INGESTION_TEST_DIR_KEY)\n",
    "data_ingestion = DataIngestion(data_ingestion_config=data_ingestion_config)"
   ]
  },
  {
   "cell_type": "code",
   "execution_count": 68,
   "metadata": {},
   "outputs": [
    {
     "ename": "HousingException",
     "evalue": "\n        \n        Error occured in Script: [ /Users/vambat1/Documents/Projects/Machine-Learning/03-ML-House-Price-Prediction/housing/components/data_ingestion.py ]\n        at try block line number: [130] and exception block line number : [134] \n        and error message: [\n        \n        Error occured in Script: [ /Users/vambat1/Documents/Projects/Machine-Learning/03-ML-House-Price-Prediction/housing/components/data_ingestion.py ]\n        at try block line number: [31] and exception block line number : [46] \n        and error message: [[Errno 1] Operation not permitted: 'tgz_download_dir']\n        \n        ]\n        \n        ",
     "output_type": "error",
     "traceback": [
      "\u001b[0;31m---------------------------------------------------------------------------\u001b[0m",
      "\u001b[0;31mPermissionError\u001b[0m                           Traceback (most recent call last)",
      "File \u001b[0;32m~/Documents/Projects/Machine-Learning/03-ML-House-Price-Prediction/housing/components/data_ingestion.py:31\u001b[0m, in \u001b[0;36mDataIngestion.download_housing_data\u001b[0;34m(self)\u001b[0m\n\u001b[1;32m     30\u001b[0m \u001b[39mif\u001b[39;00m os\u001b[39m.\u001b[39mpath\u001b[39m.\u001b[39mexists(tgz_download_dir):\n\u001b[0;32m---> 31\u001b[0m     os\u001b[39m.\u001b[39mremove(tgz_download_dir)\n\u001b[1;32m     33\u001b[0m os\u001b[39m.\u001b[39mmakedirs(tgz_download_dir, exist_ok\u001b[39m=\u001b[39m\u001b[39mTrue\u001b[39;00m)\n",
      "\u001b[0;31mPermissionError\u001b[0m: [Errno 1] Operation not permitted: 'tgz_download_dir'",
      "\nThe above exception was the direct cause of the following exception:\n",
      "\u001b[0;31mHousingException\u001b[0m                          Traceback (most recent call last)",
      "File \u001b[0;32m~/Documents/Projects/Machine-Learning/03-ML-House-Price-Prediction/housing/components/data_ingestion.py:130\u001b[0m, in \u001b[0;36minitiate_data_ingestion\u001b[0;34m(self)\u001b[0m\n\u001b[1;32m    129\u001b[0m \u001b[39mdef\u001b[39;00m \u001b[39minitiate_data_ingestion\u001b[39m(\u001b[39mself\u001b[39m) \u001b[39m-\u001b[39m\u001b[39m>\u001b[39m DataIngestionArtifact:\n\u001b[0;32m--> 130\u001b[0m     \u001b[39mtry\u001b[39;00m:\n\u001b[1;32m    131\u001b[0m         tgz_file_path \u001b[39m=\u001b[39m \u001b[39mself\u001b[39m\u001b[39m.\u001b[39mdownload_housing_data()\n",
      "File \u001b[0;32m~/Documents/Projects/Machine-Learning/03-ML-House-Price-Prediction/housing/components/data_ingestion.py:46\u001b[0m, in \u001b[0;36mDataIngestion.download_housing_data\u001b[0;34m(self)\u001b[0m\n\u001b[1;32m     45\u001b[0m \u001b[39mexcept\u001b[39;00m \u001b[39mException\u001b[39;00m \u001b[39mas\u001b[39;00m e:\n\u001b[0;32m---> 46\u001b[0m     \u001b[39mraise\u001b[39;00m HousingException(e, sys) \u001b[39mfrom\u001b[39;00m \u001b[39me\u001b[39;00m\n",
      "\u001b[0;31mHousingException\u001b[0m: \n        \n        Error occured in Script: [ /Users/vambat1/Documents/Projects/Machine-Learning/03-ML-House-Price-Prediction/housing/components/data_ingestion.py ]\n        at try block line number: [31] and exception block line number : [46] \n        and error message: [[Errno 1] Operation not permitted: 'tgz_download_dir']\n        \n        ",
      "\nThe above exception was the direct cause of the following exception:\n",
      "\u001b[0;31mHousingException\u001b[0m                          Traceback (most recent call last)",
      "\u001b[1;32m/Users/vambat1/Documents/Projects/Machine-Learning/03-ML-House-Price-Prediction/notebook/data_validation.ipynb Cell 7\u001b[0m line \u001b[0;36m1\n\u001b[0;32m----> <a href='vscode-notebook-cell:/Users/vambat1/Documents/Projects/Machine-Learning/03-ML-House-Price-Prediction/notebook/data_validation.ipynb#W6sZmlsZQ%3D%3D?line=0'>1</a>\u001b[0m data_ingestion\u001b[39m.\u001b[39;49minitiate_data_ingestion()\n",
      "File \u001b[0;32m~/Documents/Projects/Machine-Learning/03-ML-House-Price-Prediction/housing/components/data_ingestion.py:134\u001b[0m, in \u001b[0;36minitiate_data_ingestion\u001b[0;34m(self)\u001b[0m\n\u001b[1;32m    132\u001b[0m     \u001b[39mself\u001b[39m\u001b[39m.\u001b[39mextract_tgz_file(tgz_file_path\u001b[39m=\u001b[39mtgz_file_path)\n\u001b[1;32m    133\u001b[0m     data_ingestion_artifact \u001b[39m=\u001b[39m \u001b[39mself\u001b[39m\u001b[39m.\u001b[39msplit_data_as_train_test()\n\u001b[0;32m--> 134\u001b[0m     \u001b[39mreturn\u001b[39;00m data_ingestion_artifact\n\u001b[1;32m    135\u001b[0m \u001b[39mexcept\u001b[39;00m \u001b[39mException\u001b[39;00m \u001b[39mas\u001b[39;00m e:\n\u001b[1;32m    136\u001b[0m     \u001b[39mraise\u001b[39;00m HousingException(e, sys) \u001b[39mfrom\u001b[39;00m \u001b[39me\u001b[39;00m\n",
      "\u001b[0;31mHousingException\u001b[0m: \n        \n        Error occured in Script: [ /Users/vambat1/Documents/Projects/Machine-Learning/03-ML-House-Price-Prediction/housing/components/data_ingestion.py ]\n        at try block line number: [130] and exception block line number : [134] \n        and error message: [\n        \n        Error occured in Script: [ /Users/vambat1/Documents/Projects/Machine-Learning/03-ML-House-Price-Prediction/housing/components/data_ingestion.py ]\n        at try block line number: [31] and exception block line number : [46] \n        and error message: [[Errno 1] Operation not permitted: 'tgz_download_dir']\n        \n        ]\n        \n        "
     ]
    }
   ],
   "source": [
    "data_ingestion.initiate_data_ingestion()\n"
   ]
  },
  {
   "cell_type": "code",
   "execution_count": null,
   "metadata": {},
   "outputs": [],
   "source": []
  },
  {
   "cell_type": "code",
   "execution_count": null,
   "metadata": {},
   "outputs": [],
   "source": []
  },
  {
   "cell_type": "code",
   "execution_count": null,
   "metadata": {},
   "outputs": [],
   "source": []
  }
 ],
 "metadata": {
  "kernelspec": {
   "display_name": "venv",
   "language": "python",
   "name": "python3"
  },
  "language_info": {
   "codemirror_mode": {
    "name": "ipython",
    "version": 3
   },
   "file_extension": ".py",
   "mimetype": "text/x-python",
   "name": "python",
   "nbconvert_exporter": "python",
   "pygments_lexer": "ipython3",
   "version": "3.11.6"
  }
 },
 "nbformat": 4,
 "nbformat_minor": 2
}
