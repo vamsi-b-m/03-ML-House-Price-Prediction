{
 "cells": [
  {
   "cell_type": "code",
   "execution_count": 8,
   "metadata": {},
   "outputs": [],
   "source": [
    "import pandas as pd\n",
    "import numpy as np\n",
    "from sklearn.linear_model import LinearRegression"
   ]
  },
  {
   "cell_type": "code",
   "execution_count": 4,
   "metadata": {},
   "outputs": [],
   "source": [
    "lr = LinearRegression()"
   ]
  },
  {
   "cell_type": "code",
   "execution_count": 9,
   "metadata": {},
   "outputs": [],
   "source": [
    "npz = np.load(\"/Users/vambat1/Documents/Projects/Machine-Learning/03-ML-House-Price-Prediction/housing/artifact/data_transformation/2024-01-07-16-46-00/transformed_data/train/housing.npz\")"
   ]
  },
  {
   "cell_type": "code",
   "execution_count": null,
   "metadata": {},
   "outputs": [],
   "source": []
  },
  {
   "cell_type": "code",
   "execution_count": 16,
   "metadata": {},
   "outputs": [],
   "source": [
    "df = pd.DataFrame(npz)"
   ]
  },
  {
   "cell_type": "code",
   "execution_count": 17,
   "metadata": {},
   "outputs": [
    {
     "data": {
      "text/html": [
       "<div>\n",
       "<style scoped>\n",
       "    .dataframe tbody tr th:only-of-type {\n",
       "        vertical-align: middle;\n",
       "    }\n",
       "\n",
       "    .dataframe tbody tr th {\n",
       "        vertical-align: top;\n",
       "    }\n",
       "\n",
       "    .dataframe thead th {\n",
       "        text-align: right;\n",
       "    }\n",
       "</style>\n",
       "<table border=\"1\" class=\"dataframe\">\n",
       "  <thead>\n",
       "    <tr style=\"text-align: right;\">\n",
       "      <th></th>\n",
       "      <th>0</th>\n",
       "      <th>1</th>\n",
       "      <th>2</th>\n",
       "      <th>3</th>\n",
       "      <th>4</th>\n",
       "      <th>5</th>\n",
       "      <th>6</th>\n",
       "      <th>7</th>\n",
       "      <th>8</th>\n",
       "      <th>9</th>\n",
       "      <th>10</th>\n",
       "      <th>11</th>\n",
       "      <th>12</th>\n",
       "      <th>13</th>\n",
       "      <th>14</th>\n",
       "      <th>15</th>\n",
       "      <th>16</th>\n",
       "    </tr>\n",
       "  </thead>\n",
       "  <tbody>\n",
       "    <tr>\n",
       "      <th>0</th>\n",
       "      <td>-0.941350</td>\n",
       "      <td>1.347438</td>\n",
       "      <td>0.027564</td>\n",
       "      <td>0.584777</td>\n",
       "      <td>0.640371</td>\n",
       "      <td>0.732602</td>\n",
       "      <td>0.556286</td>\n",
       "      <td>-0.893647</td>\n",
       "      <td>0.017395</td>\n",
       "      <td>0.006223</td>\n",
       "      <td>0.046298</td>\n",
       "      <td>0.000000</td>\n",
       "      <td>2.14609</td>\n",
       "      <td>0.0</td>\n",
       "      <td>0.0</td>\n",
       "      <td>0.00000</td>\n",
       "      <td>72100.0</td>\n",
       "    </tr>\n",
       "    <tr>\n",
       "      <th>1</th>\n",
       "      <td>1.171782</td>\n",
       "      <td>-1.192440</td>\n",
       "      <td>-1.722018</td>\n",
       "      <td>1.261467</td>\n",
       "      <td>0.781561</td>\n",
       "      <td>0.533612</td>\n",
       "      <td>0.721318</td>\n",
       "      <td>1.292168</td>\n",
       "      <td>0.569256</td>\n",
       "      <td>-0.040811</td>\n",
       "      <td>0.018269</td>\n",
       "      <td>0.000000</td>\n",
       "      <td>0.00000</td>\n",
       "      <td>0.0</td>\n",
       "      <td>0.0</td>\n",
       "      <td>2.98691</td>\n",
       "      <td>279600.0</td>\n",
       "    </tr>\n",
       "    <tr>\n",
       "      <th>2</th>\n",
       "      <td>0.267581</td>\n",
       "      <td>-0.125972</td>\n",
       "      <td>1.220460</td>\n",
       "      <td>-0.469773</td>\n",
       "      <td>-0.545138</td>\n",
       "      <td>-0.674675</td>\n",
       "      <td>-0.524407</td>\n",
       "      <td>-0.525434</td>\n",
       "      <td>-0.018024</td>\n",
       "      <td>-0.075371</td>\n",
       "      <td>-0.125247</td>\n",
       "      <td>0.000000</td>\n",
       "      <td>2.14609</td>\n",
       "      <td>0.0</td>\n",
       "      <td>0.0</td>\n",
       "      <td>0.00000</td>\n",
       "      <td>82700.0</td>\n",
       "    </tr>\n",
       "    <tr>\n",
       "      <th>3</th>\n",
       "      <td>1.221738</td>\n",
       "      <td>-1.351474</td>\n",
       "      <td>-0.370069</td>\n",
       "      <td>-0.348652</td>\n",
       "      <td>-0.036367</td>\n",
       "      <td>-0.467617</td>\n",
       "      <td>-0.037297</td>\n",
       "      <td>-0.865929</td>\n",
       "      <td>-0.595140</td>\n",
       "      <td>-0.106803</td>\n",
       "      <td>-0.051287</td>\n",
       "      <td>0.000000</td>\n",
       "      <td>0.00000</td>\n",
       "      <td>0.0</td>\n",
       "      <td>0.0</td>\n",
       "      <td>2.98691</td>\n",
       "      <td>112500.0</td>\n",
       "    </tr>\n",
       "    <tr>\n",
       "      <th>4</th>\n",
       "      <td>0.437431</td>\n",
       "      <td>-0.635818</td>\n",
       "      <td>-0.131489</td>\n",
       "      <td>0.427179</td>\n",
       "      <td>0.272790</td>\n",
       "      <td>0.374060</td>\n",
       "      <td>0.220898</td>\n",
       "      <td>0.325752</td>\n",
       "      <td>0.251241</td>\n",
       "      <td>0.006109</td>\n",
       "      <td>0.019188</td>\n",
       "      <td>2.014211</td>\n",
       "      <td>0.00000</td>\n",
       "      <td>0.0</td>\n",
       "      <td>0.0</td>\n",
       "      <td>0.00000</td>\n",
       "      <td>238300.0</td>\n",
       "    </tr>\n",
       "  </tbody>\n",
       "</table>\n",
       "</div>"
      ],
      "text/plain": [
       "         0         1         2         3         4         5         6   \\\n",
       "0 -0.941350  1.347438  0.027564  0.584777  0.640371  0.732602  0.556286   \n",
       "1  1.171782 -1.192440 -1.722018  1.261467  0.781561  0.533612  0.721318   \n",
       "2  0.267581 -0.125972  1.220460 -0.469773 -0.545138 -0.674675 -0.524407   \n",
       "3  1.221738 -1.351474 -0.370069 -0.348652 -0.036367 -0.467617 -0.037297   \n",
       "4  0.437431 -0.635818 -0.131489  0.427179  0.272790  0.374060  0.220898   \n",
       "\n",
       "         7         8         9         10        11       12   13   14  \\\n",
       "0 -0.893647  0.017395  0.006223  0.046298  0.000000  2.14609  0.0  0.0   \n",
       "1  1.292168  0.569256 -0.040811  0.018269  0.000000  0.00000  0.0  0.0   \n",
       "2 -0.525434 -0.018024 -0.075371 -0.125247  0.000000  2.14609  0.0  0.0   \n",
       "3 -0.865929 -0.595140 -0.106803 -0.051287  0.000000  0.00000  0.0  0.0   \n",
       "4  0.325752  0.251241  0.006109  0.019188  2.014211  0.00000  0.0  0.0   \n",
       "\n",
       "        15        16  \n",
       "0  0.00000   72100.0  \n",
       "1  2.98691  279600.0  \n",
       "2  0.00000   82700.0  \n",
       "3  2.98691  112500.0  \n",
       "4  0.00000  238300.0  "
      ]
     },
     "execution_count": 17,
     "metadata": {},
     "output_type": "execute_result"
    }
   ],
   "source": [
    "df.head()"
   ]
  },
  {
   "cell_type": "code",
   "execution_count": 20,
   "metadata": {},
   "outputs": [
    {
     "data": {
      "text/plain": [
       "RangeIndex(start=0, stop=17, step=1)"
      ]
     },
     "execution_count": 20,
     "metadata": {},
     "output_type": "execute_result"
    }
   ],
   "source": [
    "df.columns"
   ]
  },
  {
   "cell_type": "code",
   "execution_count": null,
   "metadata": {},
   "outputs": [],
   "source": []
  }
 ],
 "metadata": {
  "kernelspec": {
   "display_name": "venv",
   "language": "python",
   "name": "python3"
  },
  "language_info": {
   "codemirror_mode": {
    "name": "ipython",
    "version": 3
   },
   "file_extension": ".py",
   "mimetype": "text/x-python",
   "name": "python",
   "nbconvert_exporter": "python",
   "pygments_lexer": "ipython3",
   "version": "3.11.6"
  }
 },
 "nbformat": 4,
 "nbformat_minor": 2
}
