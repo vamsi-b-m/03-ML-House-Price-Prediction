{
 "cells": [
  {
   "cell_type": "code",
   "execution_count": 2,
   "metadata": {},
   "outputs": [],
   "source": [
    "from housing.constant import *\n",
    "from housing.config.configuration import Configuration"
   ]
  },
  {
   "cell_type": "code",
   "execution_count": 6,
   "metadata": {},
   "outputs": [
    {
     "data": {
      "text/plain": [
       "'/Users/vambat1/Documents/Projects/Machine-Learning/03-ML-House-Price-Prediction/notebook'"
      ]
     },
     "execution_count": 6,
     "metadata": {},
     "output_type": "execute_result"
    }
   ],
   "source": [
    "os.getcwd()"
   ]
  },
  {
   "cell_type": "code",
   "execution_count": 7,
   "metadata": {},
   "outputs": [],
   "source": [
    "config = Configuration(config_file_path='/Users/vambat1/Documents/Projects/Machine-Learning/03-ML-House-Price-Prediction/config/config.yml')"
   ]
  },
  {
   "cell_type": "code",
   "execution_count": 9,
   "metadata": {},
   "outputs": [
    {
     "name": "stdout",
     "output_type": "stream",
     "text": [
      "https://raw.githubusercontent.com/ageron/handson-ml/master/datasets/housing/housing.tgz\n",
      "/Users/vambat1/Documents/Projects/Machine-Learning/03-ML-House-Price-Prediction/notebook/housing/artifact/data_ingestion/2023-11-30-14-02-36/tgz_data\n",
      "/Users/vambat1/Documents/Projects/Machine-Learning/03-ML-House-Price-Prediction/notebook/housing/artifact/data_ingestion/2023-11-30-14-02-36/raw_data\n",
      "/Users/vambat1/Documents/Projects/Machine-Learning/03-ML-House-Price-Prediction/notebook/housing/artifact/data_ingestion/2023-11-30-14-02-36/ingested_data/train\n",
      "/Users/vambat1/Documents/Projects/Machine-Learning/03-ML-House-Price-Prediction/notebook/housing/artifact/data_ingestion/2023-11-30-14-02-36/ingested_data/test\n"
     ]
    },
    {
     "data": {
      "text/plain": [
       "[None, None, None, None, None]"
      ]
     },
     "execution_count": 9,
     "metadata": {},
     "output_type": "execute_result"
    }
   ],
   "source": [
    "ingestion_info = config.get_data_ingestion_config()\n",
    "[print(i) for i in ingestion_info]"
   ]
  },
  {
   "cell_type": "code",
   "execution_count": null,
   "metadata": {},
   "outputs": [],
   "source": []
  },
  {
   "cell_type": "code",
   "execution_count": 10,
   "metadata": {},
   "outputs": [
    {
     "name": "stdout",
     "output_type": "stream",
     "text": [
      "/Users/vambat1/Documents/Projects/Machine-Learning/03-ML-House-Price-Prediction/notebook/housing/artifact/data_validation/2023-11-30-14-02-36/config\n",
      "schema.yaml\n",
      "report.json\n",
      "report.html\n"
     ]
    },
    {
     "data": {
      "text/plain": [
       "[None, None, None, None]"
      ]
     },
     "execution_count": 10,
     "metadata": {},
     "output_type": "execute_result"
    }
   ],
   "source": [
    "validation_info = config.get_data_validation_config()\n",
    "[print(i) for i in validation_info]"
   ]
  },
  {
   "cell_type": "code",
   "execution_count": 11,
   "metadata": {},
   "outputs": [
    {
     "name": "stdout",
     "output_type": "stream",
     "text": [
      "True\n",
      "/Users/vambat1/Documents/Projects/Machine-Learning/03-ML-House-Price-Prediction/notebook/housing/artifact/data_transformation/2023-11-30-14-02-36/transformed_data\n",
      "/Users/vambat1/Documents/Projects/Machine-Learning/03-ML-House-Price-Prediction/notebook/housing/artifact/data_transformation/2023-11-30-14-02-36/transformed_data/train\n",
      "/Users/vambat1/Documents/Projects/Machine-Learning/03-ML-House-Price-Prediction/notebook/housing/artifact/data_transformation/2023-11-30-14-02-36/transformed_data/test\n",
      "/Users/vambat1/Documents/Projects/Machine-Learning/03-ML-House-Price-Prediction/notebook/housing/artifact/data_transformation/2023-11-30-14-02-36/preprocessed\n",
      "preprocessed.pkl\n"
     ]
    },
    {
     "data": {
      "text/plain": [
       "[None, None, None, None, None, None]"
      ]
     },
     "execution_count": 11,
     "metadata": {},
     "output_type": "execute_result"
    }
   ],
   "source": [
    "transformation_info = config.get_data_transformation_config()\n",
    "[print(i) for i in transformation_info]"
   ]
  },
  {
   "cell_type": "code",
   "execution_count": null,
   "metadata": {},
   "outputs": [],
   "source": []
  }
 ],
 "metadata": {
  "kernelspec": {
   "display_name": "venv",
   "language": "python",
   "name": "python3"
  },
  "language_info": {
   "codemirror_mode": {
    "name": "ipython",
    "version": 3
   },
   "file_extension": ".py",
   "mimetype": "text/x-python",
   "name": "python",
   "nbconvert_exporter": "python",
   "pygments_lexer": "ipython3",
   "version": "3.12.0"
  }
 },
 "nbformat": 4,
 "nbformat_minor": 2
}
