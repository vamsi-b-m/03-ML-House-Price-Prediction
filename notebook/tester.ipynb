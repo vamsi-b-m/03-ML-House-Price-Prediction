{
 "cells": [
  {
   "cell_type": "code",
   "execution_count": 1,
   "metadata": {},
   "outputs": [],
   "source": [
    "from housing.constant import *\n",
    "from housing.config.configuration import Configuration"
   ]
  },
  {
   "cell_type": "code",
   "execution_count": 2,
   "metadata": {},
   "outputs": [
    {
     "data": {
      "text/plain": [
       "'/Users/vambat1/Documents/Projects/Machine-Learning/03-ML-House-Price-Prediction/notebook'"
      ]
     },
     "execution_count": 2,
     "metadata": {},
     "output_type": "execute_result"
    }
   ],
   "source": [
    "os.getcwd()"
   ]
  },
  {
   "cell_type": "code",
   "execution_count": null,
   "metadata": {},
   "outputs": [],
   "source": []
  },
  {
   "cell_type": "code",
   "execution_count": 3,
   "metadata": {},
   "outputs": [],
   "source": [
    "config = Configuration(config_file_path='/Users/vambat1/Documents/Projects/Machine-Learning/03-ML-House-Price-Prediction/config/config.yml')"
   ]
  },
  {
   "cell_type": "code",
   "execution_count": 4,
   "metadata": {},
   "outputs": [],
   "source": [
    "training_pipeline_info = config.get_training_pipeline_config()"
   ]
  },
  {
   "cell_type": "code",
   "execution_count": 5,
   "metadata": {},
   "outputs": [
    {
     "data": {
      "text/plain": [
       "TrainingPipelineConfig(artifact_dir='/Users/vambat1/Documents/Projects/Machine-Learning/03-ML-House-Price-Prediction/notebook/housing/artifact')"
      ]
     },
     "execution_count": 5,
     "metadata": {},
     "output_type": "execute_result"
    }
   ],
   "source": [
    "training_pipeline_info"
   ]
  },
  {
   "cell_type": "code",
   "execution_count": 6,
   "metadata": {},
   "outputs": [
    {
     "name": "stdout",
     "output_type": "stream",
     "text": [
      "https://raw.githubusercontent.com/ageron/handson-ml/master/datasets/housing/housing.tgz\n",
      "/Users/vambat1/Documents/Projects/Machine-Learning/03-ML-House-Price-Prediction/notebook/housing/artifact/data_ingestion/2023-12-03-16-34-36/tgz_data\n",
      "/Users/vambat1/Documents/Projects/Machine-Learning/03-ML-House-Price-Prediction/notebook/housing/artifact/data_ingestion/2023-12-03-16-34-36/raw_data\n",
      "/Users/vambat1/Documents/Projects/Machine-Learning/03-ML-House-Price-Prediction/notebook/housing/artifact/data_ingestion/2023-12-03-16-34-36/ingested_data/train\n",
      "/Users/vambat1/Documents/Projects/Machine-Learning/03-ML-House-Price-Prediction/notebook/housing/artifact/data_ingestion/2023-12-03-16-34-36/ingested_data/test\n"
     ]
    },
    {
     "data": {
      "text/plain": [
       "[None, None, None, None, None]"
      ]
     },
     "execution_count": 6,
     "metadata": {},
     "output_type": "execute_result"
    }
   ],
   "source": [
    "data_ingestion_info = config.get_data_ingestion_config()\n",
    "[print(i) for i in data_ingestion_info]"
   ]
  },
  {
   "cell_type": "code",
   "execution_count": null,
   "metadata": {},
   "outputs": [],
   "source": []
  },
  {
   "cell_type": "code",
   "execution_count": 7,
   "metadata": {},
   "outputs": [
    {
     "name": "stdout",
     "output_type": "stream",
     "text": [
      "/Users/vambat1/Documents/Projects/Machine-Learning/03-ML-House-Price-Prediction/notebook/config/schema.yaml\n",
      "/Users/vambat1/Documents/Projects/Machine-Learning/03-ML-House-Price-Prediction/notebook/housing/artifact/data_validation/2023-12-03-16-34-36/report.json\n",
      "/Users/vambat1/Documents/Projects/Machine-Learning/03-ML-House-Price-Prediction/notebook/housing/artifact/data_validation/2023-12-03-16-34-36/report.html\n"
     ]
    },
    {
     "data": {
      "text/plain": [
       "[None, None, None]"
      ]
     },
     "execution_count": 7,
     "metadata": {},
     "output_type": "execute_result"
    }
   ],
   "source": [
    "data_validation_info = config.get_data_validation_config()\n",
    "[print(i) for i in data_validation_info]"
   ]
  },
  {
   "cell_type": "code",
   "execution_count": 8,
   "metadata": {},
   "outputs": [
    {
     "name": "stdout",
     "output_type": "stream",
     "text": [
      "True\n",
      "/Users/vambat1/Documents/Projects/Machine-Learning/03-ML-House-Price-Prediction/notebook/housing/artifact/data_transformation/2023-12-03-16-34-36/transformed_data/train\n",
      "/Users/vambat1/Documents/Projects/Machine-Learning/03-ML-House-Price-Prediction/notebook/housing/artifact/data_transformation/2023-12-03-16-34-36/transformed_data/test\n",
      "/Users/vambat1/Documents/Projects/Machine-Learning/03-ML-House-Price-Prediction/notebook/housing/artifact/data_transformation/2023-12-03-16-34-36/preprocessed/preprocessed.pkl\n"
     ]
    },
    {
     "data": {
      "text/plain": [
       "[None, None, None, None]"
      ]
     },
     "execution_count": 8,
     "metadata": {},
     "output_type": "execute_result"
    }
   ],
   "source": [
    "data_transformation_info = config.get_data_transformation_config()\n",
    "[print(i) for i in data_transformation_info]"
   ]
  },
  {
   "cell_type": "code",
   "execution_count": null,
   "metadata": {},
   "outputs": [],
   "source": []
  },
  {
   "cell_type": "code",
   "execution_count": 9,
   "metadata": {},
   "outputs": [
    {
     "name": "stdout",
     "output_type": "stream",
     "text": [
      "/Users/vambat1/Documents/Projects/Machine-Learning/03-ML-House-Price-Prediction/notebook/housing/artifact/model_trainer/2023-12-03-16-34-36/trained_model/model.yaml\n",
      "/Users/vambat1/Documents/Projects/Machine-Learning/03-ML-House-Price-Prediction/notebook/housing/artifact/model_trainer/2023-12-03-16-34-36/config/model.yaml\n",
      "0.6\n"
     ]
    },
    {
     "data": {
      "text/plain": [
       "[None, None, None]"
      ]
     },
     "execution_count": 9,
     "metadata": {},
     "output_type": "execute_result"
    }
   ],
   "source": [
    "model_trainer_info = config.get_model_trainer_config()\n",
    "[print(i) for i in model_trainer_info]"
   ]
  },
  {
   "cell_type": "code",
   "execution_count": null,
   "metadata": {},
   "outputs": [],
   "source": []
  },
  {
   "cell_type": "code",
   "execution_count": 10,
   "metadata": {},
   "outputs": [
    {
     "name": "stdout",
     "output_type": "stream",
     "text": [
      "/Users/vambat1/Documents/Projects/Machine-Learning/03-ML-House-Price-Prediction/notebook/housing/artifact/model_evaluation/model_evaluation.yaml\n",
      "2023-12-03-16-34-36\n"
     ]
    },
    {
     "data": {
      "text/plain": [
       "[None, None]"
      ]
     },
     "execution_count": 10,
     "metadata": {},
     "output_type": "execute_result"
    }
   ],
   "source": [
    "model_evaluation_info = config.get_model_evaluation_config()\n",
    "[print(i) for i in model_evaluation_info]"
   ]
  },
  {
   "cell_type": "code",
   "execution_count": null,
   "metadata": {},
   "outputs": [],
   "source": []
  },
  {
   "cell_type": "code",
   "execution_count": 11,
   "metadata": {},
   "outputs": [
    {
     "name": "stdout",
     "output_type": "stream",
     "text": [
      "/Users/vambat1/Documents/Projects/Machine-Learning/03-ML-House-Price-Prediction/notebook/saved_models/20231203163446\n"
     ]
    },
    {
     "data": {
      "text/plain": [
       "[None]"
      ]
     },
     "execution_count": 11,
     "metadata": {},
     "output_type": "execute_result"
    }
   ],
   "source": [
    "model_pusher_info = config.get_model_pusher_config()\n",
    "[print(i) for i in model_pusher_info]"
   ]
  },
  {
   "cell_type": "code",
   "execution_count": null,
   "metadata": {},
   "outputs": [],
   "source": []
  },
  {
   "cell_type": "code",
   "execution_count": null,
   "metadata": {},
   "outputs": [],
   "source": []
  },
  {
   "cell_type": "code",
   "execution_count": 12,
   "metadata": {},
   "outputs": [],
   "source": [
    "url = \"https://raw.githubusercontent.com/ageron/handson-ml/master/datasets/housing/housing.tgz\""
   ]
  },
  {
   "cell_type": "code",
   "execution_count": 13,
   "metadata": {},
   "outputs": [],
   "source": [
    "import os"
   ]
  },
  {
   "cell_type": "code",
   "execution_count": 15,
   "metadata": {},
   "outputs": [
    {
     "data": {
      "text/plain": [
       "'housing.tgz'"
      ]
     },
     "execution_count": 15,
     "metadata": {},
     "output_type": "execute_result"
    }
   ],
   "source": [
    "os.path.basename(url)"
   ]
  },
  {
   "cell_type": "code",
   "execution_count": 18,
   "metadata": {},
   "outputs": [],
   "source": []
  },
  {
   "cell_type": "code",
   "execution_count": 32,
   "metadata": {},
   "outputs": [],
   "source": [
    "f_path = \"/Users/vambat1/Documents/Projects/Machine-Learning/03-ML-House-Price-Prediction/config/\""
   ]
  },
  {
   "cell_type": "code",
   "execution_count": 33,
   "metadata": {},
   "outputs": [
    {
     "data": {
      "text/plain": [
       "'config.yml'"
      ]
     },
     "execution_count": 33,
     "metadata": {},
     "output_type": "execute_result"
    }
   ],
   "source": [
    "os.listdir(f_path)[0]"
   ]
  },
  {
   "cell_type": "code",
   "execution_count": null,
   "metadata": {},
   "outputs": [],
   "source": []
  },
  {
   "cell_type": "code",
   "execution_count": null,
   "metadata": {},
   "outputs": [],
   "source": [
    "from housing.components.data_ingestion import DataIngestion\n",
    "from housing.constant import *\n",
    "ingestion = DataIngestion()"
   ]
  },
  {
   "cell_type": "code",
   "execution_count": 27,
   "metadata": {},
   "outputs": [],
   "source": []
  },
  {
   "cell_type": "code",
   "execution_count": null,
   "metadata": {},
   "outputs": [],
   "source": []
  },
  {
   "cell_type": "code",
   "execution_count": null,
   "metadata": {},
   "outputs": [],
   "source": []
  },
  {
   "cell_type": "code",
   "execution_count": null,
   "metadata": {},
   "outputs": [],
   "source": []
  },
  {
   "cell_type": "code",
   "execution_count": null,
   "metadata": {},
   "outputs": [],
   "source": []
  },
  {
   "cell_type": "code",
   "execution_count": null,
   "metadata": {},
   "outputs": [],
   "source": []
  }
 ],
 "metadata": {
  "kernelspec": {
   "display_name": "venv",
   "language": "python",
   "name": "python3"
  },
  "language_info": {
   "codemirror_mode": {
    "name": "ipython",
    "version": 3
   },
   "file_extension": ".py",
   "mimetype": "text/x-python",
   "name": "python",
   "nbconvert_exporter": "python",
   "pygments_lexer": "ipython3",
   "version": "3.11.6"
  }
 },
 "nbformat": 4,
 "nbformat_minor": 2
}
