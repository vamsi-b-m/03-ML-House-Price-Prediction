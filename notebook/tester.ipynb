{
 "cells": [
  {
   "cell_type": "code",
   "execution_count": 13,
   "metadata": {},
   "outputs": [],
   "source": [
    "from housing.constant import *\n",
    "from housing.config.configuration import Configuration"
   ]
  },
  {
   "cell_type": "code",
   "execution_count": 14,
   "metadata": {},
   "outputs": [
    {
     "data": {
      "text/plain": [
       "'/Users/vambat1/Documents/Projects/Machine-Learning/03-ML-House-Price-Prediction/notebook'"
      ]
     },
     "execution_count": 14,
     "metadata": {},
     "output_type": "execute_result"
    }
   ],
   "source": [
    "os.getcwd()"
   ]
  },
  {
   "cell_type": "code",
   "execution_count": null,
   "metadata": {},
   "outputs": [],
   "source": []
  },
  {
   "cell_type": "code",
   "execution_count": 15,
   "metadata": {},
   "outputs": [],
   "source": [
    "config = Configuration(config_file_path='/Users/vambat1/Documents/Projects/Machine-Learning/03-ML-House-Price-Prediction/config/config.yml')"
   ]
  },
  {
   "cell_type": "code",
   "execution_count": 16,
   "metadata": {},
   "outputs": [],
   "source": [
    "training_pipeline_info = config.get_training_pipeline_config()"
   ]
  },
  {
   "cell_type": "code",
   "execution_count": 17,
   "metadata": {},
   "outputs": [
    {
     "data": {
      "text/plain": [
       "TrainingPipelineConfig(artifact_dir='/Users/vambat1/Documents/Projects/Machine-Learning/03-ML-House-Price-Prediction/notebook/housing/artifact')"
      ]
     },
     "execution_count": 17,
     "metadata": {},
     "output_type": "execute_result"
    }
   ],
   "source": [
    "training_pipeline_info"
   ]
  },
  {
   "cell_type": "code",
   "execution_count": 18,
   "metadata": {},
   "outputs": [
    {
     "name": "stdout",
     "output_type": "stream",
     "text": [
      "https://raw.githubusercontent.com/ageron/handson-ml/master/datasets/housing/housing.tgz\n",
      "/Users/vambat1/Documents/Projects/Machine-Learning/03-ML-House-Price-Prediction/notebook/housing/artifact/data_ingestion/2023-11-30-17-00-02/tgz_data\n",
      "/Users/vambat1/Documents/Projects/Machine-Learning/03-ML-House-Price-Prediction/notebook/housing/artifact/data_ingestion/2023-11-30-17-00-02/raw_data\n",
      "/Users/vambat1/Documents/Projects/Machine-Learning/03-ML-House-Price-Prediction/notebook/housing/artifact/data_ingestion/2023-11-30-17-00-02/ingested_data/train\n",
      "/Users/vambat1/Documents/Projects/Machine-Learning/03-ML-House-Price-Prediction/notebook/housing/artifact/data_ingestion/2023-11-30-17-00-02/ingested_data/test\n"
     ]
    },
    {
     "data": {
      "text/plain": [
       "[None, None, None, None, None]"
      ]
     },
     "execution_count": 18,
     "metadata": {},
     "output_type": "execute_result"
    }
   ],
   "source": [
    "data_ingestion_info = config.get_data_ingestion_config()\n",
    "[print(i) for i in data_ingestion_info]"
   ]
  },
  {
   "cell_type": "code",
   "execution_count": null,
   "metadata": {},
   "outputs": [],
   "source": []
  },
  {
   "cell_type": "code",
   "execution_count": 19,
   "metadata": {},
   "outputs": [
    {
     "name": "stdout",
     "output_type": "stream",
     "text": [
      "/Users/vambat1/Documents/Projects/Machine-Learning/03-ML-House-Price-Prediction/notebook/config/schema.yaml\n",
      "/Users/vambat1/Documents/Projects/Machine-Learning/03-ML-House-Price-Prediction/notebook/housing/artifact/data_validation/2023-11-30-17-00-02/report.json\n",
      "/Users/vambat1/Documents/Projects/Machine-Learning/03-ML-House-Price-Prediction/notebook/housing/artifact/data_validation/2023-11-30-17-00-02/report.html\n"
     ]
    },
    {
     "data": {
      "text/plain": [
       "[None, None, None]"
      ]
     },
     "execution_count": 19,
     "metadata": {},
     "output_type": "execute_result"
    }
   ],
   "source": [
    "data_validation_info = config.get_data_validation_config()\n",
    "[print(i) for i in data_validation_info]"
   ]
  },
  {
   "cell_type": "code",
   "execution_count": 20,
   "metadata": {},
   "outputs": [
    {
     "name": "stdout",
     "output_type": "stream",
     "text": [
      "True\n",
      "/Users/vambat1/Documents/Projects/Machine-Learning/03-ML-House-Price-Prediction/notebook/housing/artifact/data_transformation/2023-11-30-17-00-02/transformed_data/train\n",
      "/Users/vambat1/Documents/Projects/Machine-Learning/03-ML-House-Price-Prediction/notebook/housing/artifact/data_transformation/2023-11-30-17-00-02/transformed_data/test\n",
      "/Users/vambat1/Documents/Projects/Machine-Learning/03-ML-House-Price-Prediction/notebook/housing/artifact/data_transformation/2023-11-30-17-00-02/preprocessed/preprocessed.pkl\n"
     ]
    },
    {
     "data": {
      "text/plain": [
       "[None, None, None, None]"
      ]
     },
     "execution_count": 20,
     "metadata": {},
     "output_type": "execute_result"
    }
   ],
   "source": [
    "data_transformation_info = config.get_data_transformation_config()\n",
    "[print(i) for i in data_transformation_info]"
   ]
  },
  {
   "cell_type": "code",
   "execution_count": null,
   "metadata": {},
   "outputs": [],
   "source": []
  },
  {
   "cell_type": "code",
   "execution_count": 21,
   "metadata": {},
   "outputs": [
    {
     "name": "stdout",
     "output_type": "stream",
     "text": [
      "/Users/vambat1/Documents/Projects/Machine-Learning/03-ML-House-Price-Prediction/notebook/housing/artifact/model_trainer/2023-11-30-17-00-02/trained_model/model.yaml\n",
      "/Users/vambat1/Documents/Projects/Machine-Learning/03-ML-House-Price-Prediction/notebook/housing/artifact/model_trainer/2023-11-30-17-00-02/config/model.yaml\n",
      "0.6\n"
     ]
    },
    {
     "data": {
      "text/plain": [
       "[None, None, None]"
      ]
     },
     "execution_count": 21,
     "metadata": {},
     "output_type": "execute_result"
    }
   ],
   "source": [
    "model_trainer_info = config.get_model_trainer_config()\n",
    "[print(i) for i in model_trainer_info]"
   ]
  },
  {
   "cell_type": "code",
   "execution_count": null,
   "metadata": {},
   "outputs": [],
   "source": []
  },
  {
   "cell_type": "code",
   "execution_count": 22,
   "metadata": {},
   "outputs": [
    {
     "name": "stdout",
     "output_type": "stream",
     "text": [
      "/Users/vambat1/Documents/Projects/Machine-Learning/03-ML-House-Price-Prediction/notebook/housing/artifact/model_evaluation/model_evaluation.yaml\n",
      "2023-11-30-17-00-02\n"
     ]
    },
    {
     "data": {
      "text/plain": [
       "[None, None]"
      ]
     },
     "execution_count": 22,
     "metadata": {},
     "output_type": "execute_result"
    }
   ],
   "source": [
    "model_evaluation_info = config.get_model_evaluation_config()\n",
    "[print(i) for i in model_evaluation_info]"
   ]
  },
  {
   "cell_type": "code",
   "execution_count": null,
   "metadata": {},
   "outputs": [],
   "source": []
  },
  {
   "cell_type": "code",
   "execution_count": 23,
   "metadata": {},
   "outputs": [
    {
     "name": "stdout",
     "output_type": "stream",
     "text": [
      "/Users/vambat1/Documents/Projects/Machine-Learning/03-ML-House-Price-Prediction/notebook/saved_models/20231130170137\n"
     ]
    },
    {
     "data": {
      "text/plain": [
       "[None]"
      ]
     },
     "execution_count": 23,
     "metadata": {},
     "output_type": "execute_result"
    }
   ],
   "source": [
    "model_pusher_info = config.get_model_pusher_config()\n",
    "[print(i) for i in model_pusher_info]"
   ]
  },
  {
   "cell_type": "code",
   "execution_count": null,
   "metadata": {},
   "outputs": [],
   "source": []
  }
 ],
 "metadata": {
  "kernelspec": {
   "display_name": "venv",
   "language": "python",
   "name": "python3"
  },
  "language_info": {
   "codemirror_mode": {
    "name": "ipython",
    "version": 3
   },
   "file_extension": ".py",
   "mimetype": "text/x-python",
   "name": "python",
   "nbconvert_exporter": "python",
   "pygments_lexer": "ipython3",
   "version": "3.12.0"
  }
 },
 "nbformat": 4,
 "nbformat_minor": 2
}
